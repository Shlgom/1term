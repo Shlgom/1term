{
 "cells": [
  {
   "cell_type": "code",
   "execution_count": 28,
   "id": "5179b7b1",
   "metadata": {},
   "outputs": [
    {
     "data": {
      "text/plain": [
       "'harley'"
      ]
     },
     "execution_count": 28,
     "metadata": {},
     "output_type": "execute_result"
    }
   ],
   "source": [
    "class car():\n",
    "    \"\"\"Описание машины\"\"\"\n",
    "    def __init__ (self, mark, model, releasedate, location, fuellevel):\n",
    "        self.mark = mark\n",
    "        self.model = model\n",
    "        self.releasedate = releasedate\n",
    "        self.location = location\n",
    "        self.age = 0\n",
    "        self.fuellevel = fuellevel\n",
    "    def info(self):\n",
    "        \"\"\"Информация о машине\"\"\"\n",
    "        print(\"Машина \" + self.mark + self.model + \",выпущенная в \" + str(self.releasedate) + \" году, находится в стране \" + self.location)\n",
    "    def age_of_car(self, year):\n",
    "        self.age = year - self.releasedate\n",
    "    def gas_station(self, litre):\n",
    "        if self.fuellevel + litre <= 50:\n",
    "            print (\"Заправка успешна\")\n",
    "        elif self.fuellevel + litre > 50:\n",
    "            print (\"Бензин выливается\")\n",
    "class motocycle(car):\n",
    "    def __init__ (self, mark, model, releasedate, location, fuellevel):\n",
    "        super().__init__(mark, model, releasedate, location, fuellevel)\n",
    "moto1 = motocycle(\"harley\", \"sb1000\", 2010, \"Russia\", 20) \n",
    "\n",
    "        \n",
    "            \n",
    "     \n"
   ]
  },
  {
   "cell_type": "code",
   "execution_count": null,
   "id": "62d0548b",
   "metadata": {},
   "outputs": [],
   "source": []
  },
  {
   "cell_type": "code",
   "execution_count": null,
   "id": "87eecae6",
   "metadata": {},
   "outputs": [],
   "source": []
  }
 ],
 "metadata": {
  "kernelspec": {
   "display_name": "Python 3",
   "language": "python",
   "name": "python3"
  },
  "language_info": {
   "codemirror_mode": {
    "name": "ipython",
    "version": 3
   },
   "file_extension": ".py",
   "mimetype": "text/x-python",
   "name": "python",
   "nbconvert_exporter": "python",
   "pygments_lexer": "ipython3",
   "version": "3.8.8"
  }
 },
 "nbformat": 4,
 "nbformat_minor": 5
}
