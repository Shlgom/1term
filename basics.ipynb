{
 "cells": [
  {
   "cell_type": "code",
   "execution_count": 3,
   "id": "d1e5fd72",
   "metadata": {},
   "outputs": [
    {
     "name": "stdout",
     "output_type": "stream",
     "text": [
      "Введите данные: user\n",
      "rseu\n"
     ]
    }
   ],
   "source": [
    "user = input (\"Введите данные: \")\n",
    "print (user[-1] + user[1: len(user) - 1] + user[0])"
   ]
  },
  {
   "cell_type": "code",
   "execution_count": 4,
   "id": "8fc810d1",
   "metadata": {},
   "outputs": [
    {
     "name": "stdout",
     "output_type": "stream",
     "text": [
      "Введите число: 7\n",
      "5040\n"
     ]
    }
   ],
   "source": [
    "a = int(input(\"Введите число: \"))\n",
    "total = 1\n",
    "while a >= 1:\n",
    "    total *= a\n",
    "    a = a - 1\n",
    "print (total)"
   ]
  },
  {
   "cell_type": "code",
   "execution_count": 5,
   "id": "33502475",
   "metadata": {},
   "outputs": [
    {
     "name": "stdout",
     "output_type": "stream",
     "text": [
      "Игрок, выберите - Камень, Ножницы, Бумага: Камень\n",
      "Игрок 1 побеждает!\n",
      "Ножницы\n"
     ]
    }
   ],
   "source": [
    "import random \n",
    "variants = [\"Камень\", \"Ножницы\", \"Бумага\"]\n",
    "p1 = input(\"Игрок, выберите - Камень, Ножницы, Бумага: \")\n",
    "p2 = random.choice(variants)\n",
    "if p1 == p2:\n",
    "    print (\"Ничья!\")\n",
    "elif p1 == \"Камень\":\n",
    "    if p2 == \"Ножницы\":\n",
    "        print (\"Игрок 1 побеждает!\")\n",
    "    else:\n",
    "        p2 == \"Бумага\"\n",
    "        print (\"Игрок 2 побеждает!\")\n",
    "elif p1 == \"Ножницы\":\n",
    "    if p2 == \"Камень\":\n",
    "           print (\"Игрок 2 побеждает!\")\n",
    "    else:\n",
    "        p2 == \"Бумага\"\n",
    "        print (\"Игрок 1 побеждает!\")\n",
    "elif p1 == \"Бумага\":\n",
    "    if p2 == \"Камень\":\n",
    "           print (\"Игрок 1 побеждает!\")\n",
    "    else:\n",
    "        p2 == \"Ножницы\"\n",
    "        print (\"Игрок 2 побеждает!\")\n",
    "print (p2)\n",
    "           \n",
    "    \n",
    "    \n",
    "           "
   ]
  },
  {
   "cell_type": "code",
   "execution_count": null,
   "id": "53b45b11",
   "metadata": {},
   "outputs": [],
   "source": []
  },
  {
   "cell_type": "code",
   "execution_count": null,
   "id": "98b1131a",
   "metadata": {},
   "outputs": [],
   "source": []
  }
 ],
 "metadata": {
  "kernelspec": {
   "display_name": "Python 3",
   "language": "python",
   "name": "python3"
  },
  "language_info": {
   "codemirror_mode": {
    "name": "ipython",
    "version": 3
   },
   "file_extension": ".py",
   "mimetype": "text/x-python",
   "name": "python",
   "nbconvert_exporter": "python",
   "pygments_lexer": "ipython3",
   "version": "3.8.8"
  }
 },
 "nbformat": 4,
 "nbformat_minor": 5
}
