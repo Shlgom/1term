{
 "cells": [
  {
   "cell_type": "code",
   "execution_count": 1,
   "id": "13ea2ca9",
   "metadata": {},
   "outputs": [
    {
     "name": "stdout",
     "output_type": "stream",
     "text": [
      "Введите число 1:5\n",
      "Введите число 2:6\n",
      "[[100   0  99  91  43]\n",
      " [  1  54  61   7  25]\n",
      " [ 28  20  67  21   7]\n",
      " [ 98  60  70  80  59]\n",
      " [ 21  79  14  26  39]\n",
      " [ 23   7  84  92  33]]\n"
     ]
    }
   ],
   "source": [
    "import numpy as np\n",
    "from random import randint\n",
    "a = int(input(\"Введите число 1:\"))\n",
    "b = int(input(\"Введите число 2:\"))\n",
    "m = np.array([[randint(0,100) for i in range (a)] for j in range (b)])\n",
    "print(m)"
   ]
  },
  {
   "cell_type": "code",
   "execution_count": 7,
   "id": "77ccdfe1",
   "metadata": {},
   "outputs": [
    {
     "name": "stdout",
     "output_type": "stream",
     "text": [
      "Введите число больше 2:5\n",
      "[[-1 -1 -1 -1  1]\n",
      " [-1  1  1 -1  1]\n",
      " [-1 -1  1 -1  1]\n",
      " [-1  1 -1  1 -1]\n",
      " [-1 -1  1  1 -1]]\n",
      "-5\n"
     ]
    }
   ],
   "source": [
    "import numpy as np\n",
    "import random\n",
    "a = int(input(\"Введите число больше 2:\"))\n",
    "variants = [-1,1]\n",
    "m = np.array([[random.choice(variants) for i in range (a)] for j in range (a)])\n",
    "sum = 0\n",
    "for i in range(a):\n",
    "    for j in range(a):\n",
    "        sum += m[i][j]\n",
    "print (m)        \n",
    "print (sum)"
   ]
  },
  {
   "cell_type": "code",
   "execution_count": null,
   "id": "c744a51a",
   "metadata": {},
   "outputs": [],
   "source": []
  }
 ],
 "metadata": {
  "kernelspec": {
   "display_name": "Python 3",
   "language": "python",
   "name": "python3"
  },
  "language_info": {
   "codemirror_mode": {
    "name": "ipython",
    "version": 3
   },
   "file_extension": ".py",
   "mimetype": "text/x-python",
   "name": "python",
   "nbconvert_exporter": "python",
   "pygments_lexer": "ipython3",
   "version": "3.8.8"
  }
 },
 "nbformat": 4,
 "nbformat_minor": 5
}
